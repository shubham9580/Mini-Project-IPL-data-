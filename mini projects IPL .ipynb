{
 "cells": [
  {
   "cell_type": "code",
   "execution_count": 1,
   "id": "9b64147a",
   "metadata": {},
   "outputs": [],
   "source": [
    "import seaborn as sns\n",
    "import matplotlib\n",
    "import matplotlib.pyplot as plt\n"
   ]
  },
  {
   "cell_type": "code",
   "execution_count": 2,
   "id": "2bec1590",
   "metadata": {},
   "outputs": [],
   "source": [
    "import pandas as pd"
   ]
  },
  {
   "cell_type": "code",
   "execution_count": 3,
   "id": "86e06567",
   "metadata": {},
   "outputs": [],
   "source": [
    "df =pd.read_csv(\"C:\\\\Users\\computer\\IPL_Dataset.csv\")"
   ]
  },
  {
   "cell_type": "code",
   "execution_count": 4,
   "id": "866bbece",
   "metadata": {},
   "outputs": [
    {
     "data": {
      "text/html": [
       "<div>\n",
       "<style scoped>\n",
       "    .dataframe tbody tr th:only-of-type {\n",
       "        vertical-align: middle;\n",
       "    }\n",
       "\n",
       "    .dataframe tbody tr th {\n",
       "        vertical-align: top;\n",
       "    }\n",
       "\n",
       "    .dataframe thead th {\n",
       "        text-align: right;\n",
       "    }\n",
       "</style>\n",
       "<table border=\"1\" class=\"dataframe\">\n",
       "  <thead>\n",
       "    <tr style=\"text-align: right;\">\n",
       "      <th></th>\n",
       "      <th>POS</th>\n",
       "      <th>Player</th>\n",
       "      <th>Mat</th>\n",
       "      <th>Inns</th>\n",
       "      <th>NO</th>\n",
       "      <th>Runs</th>\n",
       "      <th>HS</th>\n",
       "      <th>Avg</th>\n",
       "      <th>BF</th>\n",
       "      <th>SR</th>\n",
       "      <th>100</th>\n",
       "      <th>50</th>\n",
       "      <th>4s</th>\n",
       "      <th>6s</th>\n",
       "    </tr>\n",
       "  </thead>\n",
       "  <tbody>\n",
       "    <tr>\n",
       "      <th>0</th>\n",
       "      <td>1</td>\n",
       "      <td>KL Rahul</td>\n",
       "      <td>14</td>\n",
       "      <td>14</td>\n",
       "      <td>2</td>\n",
       "      <td>670</td>\n",
       "      <td>132*</td>\n",
       "      <td>55.83</td>\n",
       "      <td>518</td>\n",
       "      <td>129.34</td>\n",
       "      <td>1</td>\n",
       "      <td>5</td>\n",
       "      <td>58</td>\n",
       "      <td>23</td>\n",
       "    </tr>\n",
       "    <tr>\n",
       "      <th>1</th>\n",
       "      <td>2</td>\n",
       "      <td>Shikhar Dhawan</td>\n",
       "      <td>17</td>\n",
       "      <td>17</td>\n",
       "      <td>3</td>\n",
       "      <td>618</td>\n",
       "      <td>106*</td>\n",
       "      <td>44.14</td>\n",
       "      <td>427</td>\n",
       "      <td>144.73</td>\n",
       "      <td>2</td>\n",
       "      <td>4</td>\n",
       "      <td>67</td>\n",
       "      <td>12</td>\n",
       "    </tr>\n",
       "    <tr>\n",
       "      <th>2</th>\n",
       "      <td>3</td>\n",
       "      <td>David Warner</td>\n",
       "      <td>16</td>\n",
       "      <td>16</td>\n",
       "      <td>2</td>\n",
       "      <td>548</td>\n",
       "      <td>85*</td>\n",
       "      <td>39.14</td>\n",
       "      <td>407</td>\n",
       "      <td>134.64</td>\n",
       "      <td>0</td>\n",
       "      <td>4</td>\n",
       "      <td>52</td>\n",
       "      <td>14</td>\n",
       "    </tr>\n",
       "    <tr>\n",
       "      <th>3</th>\n",
       "      <td>4</td>\n",
       "      <td>Shreyas Iyer</td>\n",
       "      <td>17</td>\n",
       "      <td>17</td>\n",
       "      <td>2</td>\n",
       "      <td>519</td>\n",
       "      <td>88*</td>\n",
       "      <td>34.60</td>\n",
       "      <td>421</td>\n",
       "      <td>123.27</td>\n",
       "      <td>0</td>\n",
       "      <td>3</td>\n",
       "      <td>40</td>\n",
       "      <td>16</td>\n",
       "    </tr>\n",
       "    <tr>\n",
       "      <th>4</th>\n",
       "      <td>5</td>\n",
       "      <td>Ishan Kishan</td>\n",
       "      <td>14</td>\n",
       "      <td>13</td>\n",
       "      <td>4</td>\n",
       "      <td>516</td>\n",
       "      <td>99</td>\n",
       "      <td>57.33</td>\n",
       "      <td>354</td>\n",
       "      <td>145.76</td>\n",
       "      <td>0</td>\n",
       "      <td>4</td>\n",
       "      <td>36</td>\n",
       "      <td>30</td>\n",
       "    </tr>\n",
       "    <tr>\n",
       "      <th>...</th>\n",
       "      <td>...</td>\n",
       "      <td>...</td>\n",
       "      <td>...</td>\n",
       "      <td>...</td>\n",
       "      <td>...</td>\n",
       "      <td>...</td>\n",
       "      <td>...</td>\n",
       "      <td>...</td>\n",
       "      <td>...</td>\n",
       "      <td>...</td>\n",
       "      <td>...</td>\n",
       "      <td>...</td>\n",
       "      <td>...</td>\n",
       "      <td>...</td>\n",
       "    </tr>\n",
       "    <tr>\n",
       "      <th>128</th>\n",
       "      <td>129</td>\n",
       "      <td>Khaleel Ahmed</td>\n",
       "      <td>7</td>\n",
       "      <td>1</td>\n",
       "      <td>0</td>\n",
       "      <td>0</td>\n",
       "      <td>0*</td>\n",
       "      <td>0.00</td>\n",
       "      <td>2</td>\n",
       "      <td>0.00</td>\n",
       "      <td>0</td>\n",
       "      <td>0</td>\n",
       "      <td>0</td>\n",
       "      <td>0</td>\n",
       "    </tr>\n",
       "    <tr>\n",
       "      <th>129</th>\n",
       "      <td>130</td>\n",
       "      <td>Arshdeep Singh</td>\n",
       "      <td>8</td>\n",
       "      <td>1</td>\n",
       "      <td>0</td>\n",
       "      <td>0</td>\n",
       "      <td>0*</td>\n",
       "      <td>0.00</td>\n",
       "      <td>3</td>\n",
       "      <td>0.00</td>\n",
       "      <td>0</td>\n",
       "      <td>0</td>\n",
       "      <td>0</td>\n",
       "      <td>0</td>\n",
       "    </tr>\n",
       "    <tr>\n",
       "      <th>130</th>\n",
       "      <td>131</td>\n",
       "      <td>Daniel Sams</td>\n",
       "      <td>3</td>\n",
       "      <td>1</td>\n",
       "      <td>0</td>\n",
       "      <td>0</td>\n",
       "      <td>0*</td>\n",
       "      <td>0.00</td>\n",
       "      <td>2</td>\n",
       "      <td>0.00</td>\n",
       "      <td>0</td>\n",
       "      <td>0</td>\n",
       "      <td>0</td>\n",
       "      <td>0</td>\n",
       "    </tr>\n",
       "    <tr>\n",
       "      <th>131</th>\n",
       "      <td>132</td>\n",
       "      <td>Shreevats Goswami</td>\n",
       "      <td>2</td>\n",
       "      <td>2</td>\n",
       "      <td>0</td>\n",
       "      <td>0</td>\n",
       "      <td>0*</td>\n",
       "      <td>0.00</td>\n",
       "      <td>4</td>\n",
       "      <td>0.00</td>\n",
       "      <td>0</td>\n",
       "      <td>0</td>\n",
       "      <td>0</td>\n",
       "      <td>0</td>\n",
       "    </tr>\n",
       "    <tr>\n",
       "      <th>132</th>\n",
       "      <td>133</td>\n",
       "      <td>Trent Boult</td>\n",
       "      <td>15</td>\n",
       "      <td>1</td>\n",
       "      <td>0</td>\n",
       "      <td>0</td>\n",
       "      <td>0*</td>\n",
       "      <td>0.00</td>\n",
       "      <td>1</td>\n",
       "      <td>0.00</td>\n",
       "      <td>0</td>\n",
       "      <td>0</td>\n",
       "      <td>0</td>\n",
       "      <td>0</td>\n",
       "    </tr>\n",
       "  </tbody>\n",
       "</table>\n",
       "<p>133 rows × 14 columns</p>\n",
       "</div>"
      ],
      "text/plain": [
       "     POS             Player  Mat  Inns  NO  Runs    HS    Avg   BF      SR  \\\n",
       "0      1           KL Rahul   14    14   2   670  132*  55.83  518  129.34   \n",
       "1      2     Shikhar Dhawan   17    17   3   618  106*  44.14  427  144.73   \n",
       "2      3       David Warner   16    16   2   548   85*  39.14  407  134.64   \n",
       "3      4       Shreyas Iyer   17    17   2   519   88*  34.60  421  123.27   \n",
       "4      5       Ishan Kishan   14    13   4   516    99  57.33  354  145.76   \n",
       "..   ...                ...  ...   ...  ..   ...   ...    ...  ...     ...   \n",
       "128  129      Khaleel Ahmed    7     1   0     0    0*   0.00    2    0.00   \n",
       "129  130     Arshdeep Singh    8     1   0     0    0*   0.00    3    0.00   \n",
       "130  131        Daniel Sams    3     1   0     0    0*   0.00    2    0.00   \n",
       "131  132  Shreevats Goswami    2     2   0     0    0*   0.00    4    0.00   \n",
       "132  133        Trent Boult   15     1   0     0    0*   0.00    1    0.00   \n",
       "\n",
       "     100  50  4s  6s  \n",
       "0      1   5  58  23  \n",
       "1      2   4  67  12  \n",
       "2      0   4  52  14  \n",
       "3      0   3  40  16  \n",
       "4      0   4  36  30  \n",
       "..   ...  ..  ..  ..  \n",
       "128    0   0   0   0  \n",
       "129    0   0   0   0  \n",
       "130    0   0   0   0  \n",
       "131    0   0   0   0  \n",
       "132    0   0   0   0  \n",
       "\n",
       "[133 rows x 14 columns]"
      ]
     },
     "execution_count": 4,
     "metadata": {},
     "output_type": "execute_result"
    }
   ],
   "source": [
    "df"
   ]
  },
  {
   "cell_type": "code",
   "execution_count": 5,
   "id": "0c1e8908",
   "metadata": {},
   "outputs": [
    {
     "name": "stdout",
     "output_type": "stream",
     "text": [
      "<class 'pandas.core.frame.DataFrame'>\n",
      "RangeIndex: 133 entries, 0 to 132\n",
      "Data columns (total 14 columns):\n",
      " #   Column  Non-Null Count  Dtype  \n",
      "---  ------  --------------  -----  \n",
      " 0   POS     133 non-null    int64  \n",
      " 1   Player  133 non-null    object \n",
      " 2   Mat     133 non-null    int64  \n",
      " 3   Inns    133 non-null    int64  \n",
      " 4   NO      133 non-null    int64  \n",
      " 5   Runs    133 non-null    int64  \n",
      " 6   HS      133 non-null    object \n",
      " 7   Avg     133 non-null    float64\n",
      " 8   BF      133 non-null    int64  \n",
      " 9   SR      133 non-null    float64\n",
      " 10  100     133 non-null    int64  \n",
      " 11  50      133 non-null    int64  \n",
      " 12  4s      133 non-null    int64  \n",
      " 13  6s      133 non-null    int64  \n",
      "dtypes: float64(2), int64(10), object(2)\n",
      "memory usage: 14.7+ KB\n"
     ]
    }
   ],
   "source": [
    "df.info()"
   ]
  },
  {
   "cell_type": "code",
   "execution_count": 6,
   "id": "f6d7030d",
   "metadata": {},
   "outputs": [
    {
     "data": {
      "text/html": [
       "<div>\n",
       "<style scoped>\n",
       "    .dataframe tbody tr th:only-of-type {\n",
       "        vertical-align: middle;\n",
       "    }\n",
       "\n",
       "    .dataframe tbody tr th {\n",
       "        vertical-align: top;\n",
       "    }\n",
       "\n",
       "    .dataframe thead th {\n",
       "        text-align: right;\n",
       "    }\n",
       "</style>\n",
       "<table border=\"1\" class=\"dataframe\">\n",
       "  <thead>\n",
       "    <tr style=\"text-align: right;\">\n",
       "      <th></th>\n",
       "      <th>POS</th>\n",
       "      <th>Mat</th>\n",
       "      <th>Inns</th>\n",
       "      <th>NO</th>\n",
       "      <th>Runs</th>\n",
       "      <th>Avg</th>\n",
       "      <th>BF</th>\n",
       "      <th>SR</th>\n",
       "      <th>100</th>\n",
       "      <th>50</th>\n",
       "      <th>4s</th>\n",
       "      <th>6s</th>\n",
       "    </tr>\n",
       "  </thead>\n",
       "  <tbody>\n",
       "    <tr>\n",
       "      <th>count</th>\n",
       "      <td>133.00000</td>\n",
       "      <td>133.000000</td>\n",
       "      <td>133.000000</td>\n",
       "      <td>133.000000</td>\n",
       "      <td>133.000000</td>\n",
       "      <td>133.000000</td>\n",
       "      <td>133.000000</td>\n",
       "      <td>133.000000</td>\n",
       "      <td>133.000000</td>\n",
       "      <td>133.000000</td>\n",
       "      <td>133.000000</td>\n",
       "      <td>133.000000</td>\n",
       "    </tr>\n",
       "    <tr>\n",
       "      <th>mean</th>\n",
       "      <td>67.00000</td>\n",
       "      <td>9.631579</td>\n",
       "      <td>6.631579</td>\n",
       "      <td>1.616541</td>\n",
       "      <td>139.157895</td>\n",
       "      <td>19.366241</td>\n",
       "      <td>105.714286</td>\n",
       "      <td>107.364737</td>\n",
       "      <td>0.037594</td>\n",
       "      <td>0.827068</td>\n",
       "      <td>11.894737</td>\n",
       "      <td>5.518797</td>\n",
       "    </tr>\n",
       "    <tr>\n",
       "      <th>std</th>\n",
       "      <td>38.53786</td>\n",
       "      <td>4.893523</td>\n",
       "      <td>5.030925</td>\n",
       "      <td>1.550766</td>\n",
       "      <td>167.293103</td>\n",
       "      <td>18.053343</td>\n",
       "      <td>122.253870</td>\n",
       "      <td>44.584031</td>\n",
       "      <td>0.227170</td>\n",
       "      <td>1.351269</td>\n",
       "      <td>15.521375</td>\n",
       "      <td>7.393283</td>\n",
       "    </tr>\n",
       "    <tr>\n",
       "      <th>min</th>\n",
       "      <td>1.00000</td>\n",
       "      <td>1.000000</td>\n",
       "      <td>1.000000</td>\n",
       "      <td>0.000000</td>\n",
       "      <td>0.000000</td>\n",
       "      <td>0.000000</td>\n",
       "      <td>1.000000</td>\n",
       "      <td>0.000000</td>\n",
       "      <td>0.000000</td>\n",
       "      <td>0.000000</td>\n",
       "      <td>0.000000</td>\n",
       "      <td>0.000000</td>\n",
       "    </tr>\n",
       "    <tr>\n",
       "      <th>25%</th>\n",
       "      <td>34.00000</td>\n",
       "      <td>5.000000</td>\n",
       "      <td>2.000000</td>\n",
       "      <td>0.000000</td>\n",
       "      <td>10.000000</td>\n",
       "      <td>6.000000</td>\n",
       "      <td>12.000000</td>\n",
       "      <td>88.750000</td>\n",
       "      <td>0.000000</td>\n",
       "      <td>0.000000</td>\n",
       "      <td>0.000000</td>\n",
       "      <td>0.000000</td>\n",
       "    </tr>\n",
       "    <tr>\n",
       "      <th>50%</th>\n",
       "      <td>67.00000</td>\n",
       "      <td>10.000000</td>\n",
       "      <td>5.000000</td>\n",
       "      <td>1.000000</td>\n",
       "      <td>59.000000</td>\n",
       "      <td>15.000000</td>\n",
       "      <td>53.000000</td>\n",
       "      <td>116.840000</td>\n",
       "      <td>0.000000</td>\n",
       "      <td>0.000000</td>\n",
       "      <td>5.000000</td>\n",
       "      <td>2.000000</td>\n",
       "    </tr>\n",
       "    <tr>\n",
       "      <th>75%</th>\n",
       "      <td>100.00000</td>\n",
       "      <td>14.000000</td>\n",
       "      <td>11.000000</td>\n",
       "      <td>2.000000</td>\n",
       "      <td>232.000000</td>\n",
       "      <td>29.900000</td>\n",
       "      <td>169.000000</td>\n",
       "      <td>137.500000</td>\n",
       "      <td>0.000000</td>\n",
       "      <td>1.000000</td>\n",
       "      <td>20.000000</td>\n",
       "      <td>9.000000</td>\n",
       "    </tr>\n",
       "    <tr>\n",
       "      <th>max</th>\n",
       "      <td>133.00000</td>\n",
       "      <td>17.000000</td>\n",
       "      <td>17.000000</td>\n",
       "      <td>7.000000</td>\n",
       "      <td>670.000000</td>\n",
       "      <td>101.000000</td>\n",
       "      <td>518.000000</td>\n",
       "      <td>191.420000</td>\n",
       "      <td>2.000000</td>\n",
       "      <td>5.000000</td>\n",
       "      <td>67.000000</td>\n",
       "      <td>30.000000</td>\n",
       "    </tr>\n",
       "  </tbody>\n",
       "</table>\n",
       "</div>"
      ],
      "text/plain": [
       "             POS         Mat        Inns          NO        Runs         Avg  \\\n",
       "count  133.00000  133.000000  133.000000  133.000000  133.000000  133.000000   \n",
       "mean    67.00000    9.631579    6.631579    1.616541  139.157895   19.366241   \n",
       "std     38.53786    4.893523    5.030925    1.550766  167.293103   18.053343   \n",
       "min      1.00000    1.000000    1.000000    0.000000    0.000000    0.000000   \n",
       "25%     34.00000    5.000000    2.000000    0.000000   10.000000    6.000000   \n",
       "50%     67.00000   10.000000    5.000000    1.000000   59.000000   15.000000   \n",
       "75%    100.00000   14.000000   11.000000    2.000000  232.000000   29.900000   \n",
       "max    133.00000   17.000000   17.000000    7.000000  670.000000  101.000000   \n",
       "\n",
       "               BF          SR         100          50          4s          6s  \n",
       "count  133.000000  133.000000  133.000000  133.000000  133.000000  133.000000  \n",
       "mean   105.714286  107.364737    0.037594    0.827068   11.894737    5.518797  \n",
       "std    122.253870   44.584031    0.227170    1.351269   15.521375    7.393283  \n",
       "min      1.000000    0.000000    0.000000    0.000000    0.000000    0.000000  \n",
       "25%     12.000000   88.750000    0.000000    0.000000    0.000000    0.000000  \n",
       "50%     53.000000  116.840000    0.000000    0.000000    5.000000    2.000000  \n",
       "75%    169.000000  137.500000    0.000000    1.000000   20.000000    9.000000  \n",
       "max    518.000000  191.420000    2.000000    5.000000   67.000000   30.000000  "
      ]
     },
     "execution_count": 6,
     "metadata": {},
     "output_type": "execute_result"
    }
   ],
   "source": [
    "df.describe()"
   ]
  },
  {
   "cell_type": "code",
   "execution_count": 7,
   "id": "5ba47a1a",
   "metadata": {},
   "outputs": [
    {
     "data": {
      "text/html": [
       "<div>\n",
       "<style scoped>\n",
       "    .dataframe tbody tr th:only-of-type {\n",
       "        vertical-align: middle;\n",
       "    }\n",
       "\n",
       "    .dataframe tbody tr th {\n",
       "        vertical-align: top;\n",
       "    }\n",
       "\n",
       "    .dataframe thead th {\n",
       "        text-align: right;\n",
       "    }\n",
       "</style>\n",
       "<table border=\"1\" class=\"dataframe\">\n",
       "  <thead>\n",
       "    <tr style=\"text-align: right;\">\n",
       "      <th></th>\n",
       "      <th>POS</th>\n",
       "      <th>Player</th>\n",
       "      <th>Mat</th>\n",
       "      <th>Inns</th>\n",
       "      <th>NO</th>\n",
       "      <th>Runs</th>\n",
       "      <th>HS</th>\n",
       "      <th>Avg</th>\n",
       "      <th>BF</th>\n",
       "      <th>SR</th>\n",
       "      <th>100</th>\n",
       "      <th>50</th>\n",
       "      <th>4s</th>\n",
       "      <th>6s</th>\n",
       "    </tr>\n",
       "  </thead>\n",
       "  <tbody>\n",
       "  </tbody>\n",
       "</table>\n",
       "</div>"
      ],
      "text/plain": [
       "Empty DataFrame\n",
       "Columns: [POS, Player, Mat, Inns, NO, Runs, HS, Avg, BF, SR, 100, 50, 4s, 6s]\n",
       "Index: []"
      ]
     },
     "execution_count": 7,
     "metadata": {},
     "output_type": "execute_result"
    }
   ],
   "source": [
    "df.loc[633:640]"
   ]
  },
  {
   "cell_type": "code",
   "execution_count": 8,
   "id": "0a0b0b8d",
   "metadata": {},
   "outputs": [
    {
     "data": {
      "text/plain": [
       "POS       0\n",
       "Player    0\n",
       "Mat       0\n",
       "Inns      0\n",
       "NO        0\n",
       "Runs      0\n",
       "HS        0\n",
       "Avg       0\n",
       "BF        0\n",
       "SR        0\n",
       "100       0\n",
       "50        0\n",
       "4s        0\n",
       "6s        0\n",
       "dtype: int64"
      ]
     },
     "execution_count": 8,
     "metadata": {},
     "output_type": "execute_result"
    }
   ],
   "source": [
    "df.isnull().sum()"
   ]
  },
  {
   "cell_type": "code",
   "execution_count": 9,
   "id": "54dde9d6",
   "metadata": {},
   "outputs": [
    {
     "data": {
      "text/plain": [
       "Index(['POS', 'Player', 'Mat', 'Inns', 'NO', 'Runs', 'HS', 'Avg', 'BF', 'SR',\n",
       "       '100', '50', '4s', '6s'],\n",
       "      dtype='object')"
      ]
     },
     "execution_count": 9,
     "metadata": {},
     "output_type": "execute_result"
    }
   ],
   "source": [
    "df.columns"
   ]
  },
  {
   "cell_type": "markdown",
   "id": "b2fc9036",
   "metadata": {},
   "source": [
    "# Q1. What is the maximum number of matches played by an individual player in a season?\n"
   ]
  },
  {
   "cell_type": "code",
   "execution_count": 10,
   "id": "ffadb410",
   "metadata": {},
   "outputs": [
    {
     "name": "stdout",
     "output_type": "stream",
     "text": [
      "Player\n",
      "AB de Villiers       15\n",
      "Aaron Finch          12\n",
      "Abdul Samad          12\n",
      "Abhishek Sharma       8\n",
      "Ajinkya Rahane        9\n",
      "                     ..\n",
      "Virat Kohli          15\n",
      "Washington Sundar    15\n",
      "Wriddhiman Saha       4\n",
      "Yashasvi Jaiswal      3\n",
      "Yuzvendra Chahal     15\n",
      "Name: Mat, Length: 133, dtype: int64\n"
     ]
    }
   ],
   "source": [
    "print (df.groupby([\"Player\"])[\"Mat\"].max())"
   ]
  },
  {
   "cell_type": "markdown",
   "id": "a0e60a6f",
   "metadata": {},
   "source": [
    "# Q2. What is the highest average of a player in a season?"
   ]
  },
  {
   "cell_type": "code",
   "execution_count": 11,
   "id": "cc671134",
   "metadata": {},
   "outputs": [
    {
     "name": "stdout",
     "output_type": "stream",
     "text": [
      "Row with maximum average value:\n",
      "POS                 58\n",
      "Player    Deepak Hooda\n",
      "Mat                  7\n",
      "Inns                 5\n",
      "NO                   4\n",
      "Runs               101\n",
      "HS                 62*\n",
      "Avg              101.0\n",
      "BF                  71\n",
      "SR              142.25\n",
      "100                  0\n",
      "50                   1\n",
      "4s                   5\n",
      "6s                   5\n",
      "Name: 57, dtype: object\n"
     ]
    }
   ],
   "source": [
    "max_avg_row = df.loc [df[\"Avg\"].idxmax()]\n",
    "print(\"Row with maximum average value:\")\n",
    "print(max_avg_row)"
   ]
  },
  {
   "cell_type": "markdown",
   "id": "eeda966d",
   "metadata": {},
   "source": [
    "# Q3. What is the average number of matches played by a player in a season?\n"
   ]
  },
  {
   "cell_type": "code",
   "execution_count": 12,
   "id": "759c3528",
   "metadata": {},
   "outputs": [
    {
     "name": "stdout",
     "output_type": "stream",
     "text": [
      "Average number of matches played by a player in a season\n",
      "POS      67.000000\n",
      "Mat       9.631579\n",
      "Inns      6.631579\n",
      "NO        1.616541\n",
      "Runs    139.157895\n",
      "Avg      19.366241\n",
      "BF      105.714286\n",
      "SR      107.364737\n",
      "100       0.037594\n",
      "50        0.827068\n",
      "4s       11.894737\n",
      "6s        5.518797\n",
      "dtype: float64\n"
     ]
    },
    {
     "name": "stderr",
     "output_type": "stream",
     "text": [
      "C:\\Users\\computer\\AppData\\Local\\Temp\\ipykernel_11324\\2525997875.py:1: FutureWarning: Dropping of nuisance columns in DataFrame reductions (with 'numeric_only=None') is deprecated; in a future version this will raise TypeError.  Select only valid columns before calling the reduction.\n",
      "  avg_mat=df.loc[:'Mat'].mean()\n"
     ]
    }
   ],
   "source": [
    "avg_mat=df.loc[:'Mat'].mean()\n",
    "print(\"Average number of matches played by a player in a season\")\n",
    "print(avg_mat)"
   ]
  },
  {
   "cell_type": "markdown",
   "id": "8cf53e6f",
   "metadata": {},
   "source": [
    "# Q4. Please check the correlation between all the features?"
   ]
  },
  {
   "cell_type": "code",
   "execution_count": 13,
   "id": "ab5963d9",
   "metadata": {},
   "outputs": [
    {
     "name": "stdout",
     "output_type": "stream",
     "text": [
      "           POS       Mat      Inns        NO      Runs       Avg        BF  \\\n",
      "POS   1.000000 -0.556695 -0.916174 -0.386247 -0.896664 -0.746510 -0.891969   \n",
      "Mat  -0.556695  1.000000  0.728358  0.555261  0.565237  0.306128  0.555102   \n",
      "Inns -0.916174  0.728358  1.000000  0.464356  0.895914  0.585148  0.889753   \n",
      "NO   -0.386247  0.555261  0.464356  1.000000  0.308747  0.429888  0.271021   \n",
      "Runs -0.896664  0.565237  0.895914  0.308747  1.000000  0.687475  0.989948   \n",
      "Avg  -0.746510  0.306128  0.585148  0.429888  0.687475  1.000000  0.664173   \n",
      "BF   -0.891969  0.555102  0.889753  0.271021  0.989948  0.664173  1.000000   \n",
      "SR   -0.730489  0.371328  0.581468  0.415060  0.517678  0.591306  0.474226   \n",
      "100  -0.248353  0.128405  0.224328  0.019726  0.382577  0.233726  0.358550   \n",
      "50   -0.769577  0.455437  0.755027  0.174184  0.912264  0.638326  0.900547   \n",
      "4s   -0.846965  0.522628  0.846749  0.204779  0.959576  0.623643  0.955994   \n",
      "6s   -0.808756  0.523367  0.810922  0.391472  0.861166  0.646224  0.810916   \n",
      "\n",
      "            SR       100        50        4s        6s  \n",
      "POS  -0.730489 -0.248353 -0.769577 -0.846965 -0.808756  \n",
      "Mat   0.371328  0.128405  0.455437  0.522628  0.523367  \n",
      "Inns  0.581468  0.224328  0.755027  0.846749  0.810922  \n",
      "NO    0.415060  0.019726  0.174184  0.204779  0.391472  \n",
      "Runs  0.517678  0.382577  0.912264  0.959576  0.861166  \n",
      "Avg   0.591306  0.233726  0.638326  0.623643  0.646224  \n",
      "BF    0.474226  0.358550  0.900547  0.955994  0.810916  \n",
      "SR    1.000000  0.135331  0.406029  0.465132  0.566317  \n",
      "100   0.135331  1.000000  0.292812  0.456622  0.186767  \n",
      "50    0.406029  0.292812  1.000000  0.892025  0.757501  \n",
      "4s    0.465132  0.456622  0.892025  1.000000  0.731094  \n",
      "6s    0.566317  0.186767  0.757501  0.731094  1.000000  \n"
     ]
    }
   ],
   "source": [
    "corr_all=df.corr()\n",
    "print(corr_all)"
   ]
  },
  {
   "cell_type": "markdown",
   "id": "fdfeb9f4",
   "metadata": {},
   "source": [
    "# Q5. Check the list of players who has an average greater than 50 as well strike rate above 120?"
   ]
  },
  {
   "cell_type": "code",
   "execution_count": 14,
   "id": "513292c0",
   "metadata": {},
   "outputs": [
    {
     "name": "stdout",
     "output_type": "stream",
     "text": [
      "players with Avg>50 and SR>120:\n",
      "['KL Rahul', 'Ishan Kishan', 'Kieron Pollard', 'Wriddhiman Saha', 'Ruturaj Gaikwad', 'Deepak Hooda', 'Tom Curran']\n"
     ]
    }
   ],
   "source": [
    "avg_sr=df[(df['Avg'] > 50) & (df['SR'] > 120)]\n",
    "players_list= avg_sr['Player'].tolist()\n",
    "print(\"players with Avg>50 and SR>120:\")\n",
    "print(players_list)"
   ]
  },
  {
   "cell_type": "markdown",
   "id": "e7a204a9",
   "metadata": {},
   "source": [
    "# Q6. Please check the list of players who has an average greater than 40 and balls faced above 100?"
   ]
  },
  {
   "cell_type": "code",
   "execution_count": 15,
   "id": "0b0c2b1d",
   "metadata": {},
   "outputs": [
    {
     "name": "stdout",
     "output_type": "stream",
     "text": [
      "KL Rahul\n",
      "Shikhar Dhawan\n",
      "Ishan Kishan\n",
      "Virat Kohli\n",
      "AB de Villiers\n",
      "Faf du Plessis\n",
      "Eoin Morgan\n",
      "Kane Williamson\n",
      "Chris Gayle\n",
      "Ben Stokes\n",
      "Kieron Pollard\n",
      "Rahul Tewatia\n",
      "Ravindra Jadeja\n",
      "Wriddhiman Saha\n",
      "Ruturaj Gaikwad\n"
     ]
    }
   ],
   "source": [
    "avg_bf=df[(df['Avg']>40) & (df['BF']>100)]\n",
    "avg_bf_list=avg_bf['Player'].tolist()\n",
    "for i in avg_bf_list:\n",
    "  print(i)"
   ]
  },
  {
   "cell_type": "markdown",
   "id": "f6af0175",
   "metadata": {},
   "source": [
    "# Q7.Please check the list of players who scored more than 300 runs with an average greater than 45 & strike rate above 130?"
   ]
  },
  {
   "cell_type": "code",
   "execution_count": 16,
   "id": "6e508918",
   "metadata": {},
   "outputs": [
    {
     "name": "stdout",
     "output_type": "stream",
     "text": [
      "KL Rahul\n",
      "Shikhar Dhawan\n",
      "Ishan Kishan\n",
      "Virat Kohli\n",
      "AB de Villiers\n",
      "Faf du Plessis\n",
      "Eoin Morgan\n",
      "Kane Williamson\n",
      "Chris Gayle\n",
      "Ben Stokes\n",
      "Kieron Pollard\n",
      "Rahul Tewatia\n",
      "Ravindra Jadeja\n",
      "Wriddhiman Saha\n",
      "Ruturaj Gaikwad\n"
     ]
    }
   ],
   "source": [
    "run_avg_sr=df[(df['Runs']>300) & (df['Avg']>45) &(df['SR']>130)]\n",
    "run_avg_sr_list=avg_bf['Player'].tolist()\n",
    "for i in run_avg_sr_list:\n",
    "  print(i)"
   ]
  },
  {
   "cell_type": "markdown",
   "id": "72026acf",
   "metadata": {},
   "source": [
    "# Q8. Players who scroed alteast one century in this season?"
   ]
  },
  {
   "cell_type": "code",
   "execution_count": 17,
   "id": "0215b9f7",
   "metadata": {},
   "outputs": [
    {
     "data": {
      "text/html": [
       "<div>\n",
       "<style scoped>\n",
       "    .dataframe tbody tr th:only-of-type {\n",
       "        vertical-align: middle;\n",
       "    }\n",
       "\n",
       "    .dataframe tbody tr th {\n",
       "        vertical-align: top;\n",
       "    }\n",
       "\n",
       "    .dataframe thead th {\n",
       "        text-align: right;\n",
       "    }\n",
       "</style>\n",
       "<table border=\"1\" class=\"dataframe\">\n",
       "  <thead>\n",
       "    <tr style=\"text-align: right;\">\n",
       "      <th></th>\n",
       "      <th>POS</th>\n",
       "      <th>Player</th>\n",
       "      <th>Mat</th>\n",
       "      <th>Inns</th>\n",
       "      <th>NO</th>\n",
       "      <th>Runs</th>\n",
       "      <th>HS</th>\n",
       "      <th>Avg</th>\n",
       "      <th>BF</th>\n",
       "      <th>SR</th>\n",
       "      <th>100</th>\n",
       "      <th>50</th>\n",
       "      <th>4s</th>\n",
       "      <th>6s</th>\n",
       "    </tr>\n",
       "  </thead>\n",
       "  <tbody>\n",
       "    <tr>\n",
       "      <th>0</th>\n",
       "      <td>1</td>\n",
       "      <td>KL Rahul</td>\n",
       "      <td>14</td>\n",
       "      <td>14</td>\n",
       "      <td>2</td>\n",
       "      <td>670</td>\n",
       "      <td>132*</td>\n",
       "      <td>55.83</td>\n",
       "      <td>518</td>\n",
       "      <td>129.34</td>\n",
       "      <td>1</td>\n",
       "      <td>5</td>\n",
       "      <td>58</td>\n",
       "      <td>23</td>\n",
       "    </tr>\n",
       "    <tr>\n",
       "      <th>1</th>\n",
       "      <td>2</td>\n",
       "      <td>Shikhar Dhawan</td>\n",
       "      <td>17</td>\n",
       "      <td>17</td>\n",
       "      <td>3</td>\n",
       "      <td>618</td>\n",
       "      <td>106*</td>\n",
       "      <td>44.14</td>\n",
       "      <td>427</td>\n",
       "      <td>144.73</td>\n",
       "      <td>2</td>\n",
       "      <td>4</td>\n",
       "      <td>67</td>\n",
       "      <td>12</td>\n",
       "    </tr>\n",
       "    <tr>\n",
       "      <th>13</th>\n",
       "      <td>14</td>\n",
       "      <td>Mayank Agarwal</td>\n",
       "      <td>11</td>\n",
       "      <td>11</td>\n",
       "      <td>0</td>\n",
       "      <td>424</td>\n",
       "      <td>106</td>\n",
       "      <td>38.54</td>\n",
       "      <td>271</td>\n",
       "      <td>156.45</td>\n",
       "      <td>1</td>\n",
       "      <td>2</td>\n",
       "      <td>44</td>\n",
       "      <td>15</td>\n",
       "    </tr>\n",
       "    <tr>\n",
       "      <th>28</th>\n",
       "      <td>29</td>\n",
       "      <td>Ben Stokes</td>\n",
       "      <td>8</td>\n",
       "      <td>8</td>\n",
       "      <td>1</td>\n",
       "      <td>285</td>\n",
       "      <td>107*</td>\n",
       "      <td>40.71</td>\n",
       "      <td>200</td>\n",
       "      <td>142.50</td>\n",
       "      <td>1</td>\n",
       "      <td>1</td>\n",
       "      <td>36</td>\n",
       "      <td>7</td>\n",
       "    </tr>\n",
       "  </tbody>\n",
       "</table>\n",
       "</div>"
      ],
      "text/plain": [
       "    POS          Player  Mat  Inns  NO  Runs    HS    Avg   BF      SR  100  \\\n",
       "0     1        KL Rahul   14    14   2   670  132*  55.83  518  129.34    1   \n",
       "1     2  Shikhar Dhawan   17    17   3   618  106*  44.14  427  144.73    2   \n",
       "13   14  Mayank Agarwal   11    11   0   424   106  38.54  271  156.45    1   \n",
       "28   29      Ben Stokes    8     8   1   285  107*  40.71  200  142.50    1   \n",
       "\n",
       "    50  4s  6s  \n",
       "0    5  58  23  \n",
       "1    4  67  12  \n",
       "13   2  44  15  \n",
       "28   1  36   7  "
      ]
     },
     "execution_count": 17,
     "metadata": {},
     "output_type": "execute_result"
    }
   ],
   "source": [
    "df[(df[\"100\"])>0]"
   ]
  },
  {
   "cell_type": "markdown",
   "id": "19897184",
   "metadata": {},
   "source": [
    "# Q9. Players who scored atleast 4 half centuries in this season?"
   ]
  },
  {
   "cell_type": "code",
   "execution_count": 18,
   "id": "8b9f90e4",
   "metadata": {},
   "outputs": [
    {
     "data": {
      "text/html": [
       "<div>\n",
       "<style scoped>\n",
       "    .dataframe tbody tr th:only-of-type {\n",
       "        vertical-align: middle;\n",
       "    }\n",
       "\n",
       "    .dataframe tbody tr th {\n",
       "        vertical-align: top;\n",
       "    }\n",
       "\n",
       "    .dataframe thead th {\n",
       "        text-align: right;\n",
       "    }\n",
       "</style>\n",
       "<table border=\"1\" class=\"dataframe\">\n",
       "  <thead>\n",
       "    <tr style=\"text-align: right;\">\n",
       "      <th></th>\n",
       "      <th>POS</th>\n",
       "      <th>Player</th>\n",
       "      <th>Mat</th>\n",
       "      <th>Inns</th>\n",
       "      <th>NO</th>\n",
       "      <th>Runs</th>\n",
       "      <th>HS</th>\n",
       "      <th>Avg</th>\n",
       "      <th>BF</th>\n",
       "      <th>SR</th>\n",
       "      <th>100</th>\n",
       "      <th>50</th>\n",
       "      <th>4s</th>\n",
       "      <th>6s</th>\n",
       "    </tr>\n",
       "  </thead>\n",
       "  <tbody>\n",
       "    <tr>\n",
       "      <th>0</th>\n",
       "      <td>1</td>\n",
       "      <td>KL Rahul</td>\n",
       "      <td>14</td>\n",
       "      <td>14</td>\n",
       "      <td>2</td>\n",
       "      <td>670</td>\n",
       "      <td>132*</td>\n",
       "      <td>55.83</td>\n",
       "      <td>518</td>\n",
       "      <td>129.34</td>\n",
       "      <td>1</td>\n",
       "      <td>5</td>\n",
       "      <td>58</td>\n",
       "      <td>23</td>\n",
       "    </tr>\n",
       "    <tr>\n",
       "      <th>1</th>\n",
       "      <td>2</td>\n",
       "      <td>Shikhar Dhawan</td>\n",
       "      <td>17</td>\n",
       "      <td>17</td>\n",
       "      <td>3</td>\n",
       "      <td>618</td>\n",
       "      <td>106*</td>\n",
       "      <td>44.14</td>\n",
       "      <td>427</td>\n",
       "      <td>144.73</td>\n",
       "      <td>2</td>\n",
       "      <td>4</td>\n",
       "      <td>67</td>\n",
       "      <td>12</td>\n",
       "    </tr>\n",
       "    <tr>\n",
       "      <th>2</th>\n",
       "      <td>3</td>\n",
       "      <td>David Warner</td>\n",
       "      <td>16</td>\n",
       "      <td>16</td>\n",
       "      <td>2</td>\n",
       "      <td>548</td>\n",
       "      <td>85*</td>\n",
       "      <td>39.14</td>\n",
       "      <td>407</td>\n",
       "      <td>134.64</td>\n",
       "      <td>0</td>\n",
       "      <td>4</td>\n",
       "      <td>52</td>\n",
       "      <td>14</td>\n",
       "    </tr>\n",
       "    <tr>\n",
       "      <th>4</th>\n",
       "      <td>5</td>\n",
       "      <td>Ishan Kishan</td>\n",
       "      <td>14</td>\n",
       "      <td>13</td>\n",
       "      <td>4</td>\n",
       "      <td>516</td>\n",
       "      <td>99</td>\n",
       "      <td>57.33</td>\n",
       "      <td>354</td>\n",
       "      <td>145.76</td>\n",
       "      <td>0</td>\n",
       "      <td>4</td>\n",
       "      <td>36</td>\n",
       "      <td>30</td>\n",
       "    </tr>\n",
       "    <tr>\n",
       "      <th>5</th>\n",
       "      <td>6</td>\n",
       "      <td>Quinton de Kock</td>\n",
       "      <td>16</td>\n",
       "      <td>16</td>\n",
       "      <td>2</td>\n",
       "      <td>503</td>\n",
       "      <td>78*</td>\n",
       "      <td>35.92</td>\n",
       "      <td>358</td>\n",
       "      <td>140.50</td>\n",
       "      <td>0</td>\n",
       "      <td>4</td>\n",
       "      <td>46</td>\n",
       "      <td>22</td>\n",
       "    </tr>\n",
       "    <tr>\n",
       "      <th>6</th>\n",
       "      <td>7</td>\n",
       "      <td>Suryakumar Yadav</td>\n",
       "      <td>16</td>\n",
       "      <td>15</td>\n",
       "      <td>3</td>\n",
       "      <td>480</td>\n",
       "      <td>79*</td>\n",
       "      <td>40.00</td>\n",
       "      <td>331</td>\n",
       "      <td>145.01</td>\n",
       "      <td>0</td>\n",
       "      <td>4</td>\n",
       "      <td>61</td>\n",
       "      <td>11</td>\n",
       "    </tr>\n",
       "    <tr>\n",
       "      <th>7</th>\n",
       "      <td>8</td>\n",
       "      <td>Devdutt Padikkal</td>\n",
       "      <td>15</td>\n",
       "      <td>15</td>\n",
       "      <td>0</td>\n",
       "      <td>473</td>\n",
       "      <td>74</td>\n",
       "      <td>31.53</td>\n",
       "      <td>379</td>\n",
       "      <td>124.80</td>\n",
       "      <td>0</td>\n",
       "      <td>5</td>\n",
       "      <td>51</td>\n",
       "      <td>8</td>\n",
       "    </tr>\n",
       "    <tr>\n",
       "      <th>9</th>\n",
       "      <td>10</td>\n",
       "      <td>AB de Villiers</td>\n",
       "      <td>15</td>\n",
       "      <td>14</td>\n",
       "      <td>4</td>\n",
       "      <td>454</td>\n",
       "      <td>73*</td>\n",
       "      <td>45.40</td>\n",
       "      <td>286</td>\n",
       "      <td>158.74</td>\n",
       "      <td>0</td>\n",
       "      <td>5</td>\n",
       "      <td>33</td>\n",
       "      <td>23</td>\n",
       "    </tr>\n",
       "    <tr>\n",
       "      <th>10</th>\n",
       "      <td>11</td>\n",
       "      <td>Faf du Plessis</td>\n",
       "      <td>13</td>\n",
       "      <td>13</td>\n",
       "      <td>2</td>\n",
       "      <td>449</td>\n",
       "      <td>87*</td>\n",
       "      <td>40.81</td>\n",
       "      <td>319</td>\n",
       "      <td>140.75</td>\n",
       "      <td>0</td>\n",
       "      <td>4</td>\n",
       "      <td>42</td>\n",
       "      <td>14</td>\n",
       "    </tr>\n",
       "  </tbody>\n",
       "</table>\n",
       "</div>"
      ],
      "text/plain": [
       "    POS            Player  Mat  Inns  NO  Runs    HS    Avg   BF      SR  100  \\\n",
       "0     1          KL Rahul   14    14   2   670  132*  55.83  518  129.34    1   \n",
       "1     2    Shikhar Dhawan   17    17   3   618  106*  44.14  427  144.73    2   \n",
       "2     3      David Warner   16    16   2   548   85*  39.14  407  134.64    0   \n",
       "4     5      Ishan Kishan   14    13   4   516    99  57.33  354  145.76    0   \n",
       "5     6   Quinton de Kock   16    16   2   503   78*  35.92  358  140.50    0   \n",
       "6     7  Suryakumar Yadav   16    15   3   480   79*  40.00  331  145.01    0   \n",
       "7     8  Devdutt Padikkal   15    15   0   473    74  31.53  379  124.80    0   \n",
       "9    10    AB de Villiers   15    14   4   454   73*  45.40  286  158.74    0   \n",
       "10   11    Faf du Plessis   13    13   2   449   87*  40.81  319  140.75    0   \n",
       "\n",
       "    50  4s  6s  \n",
       "0    5  58  23  \n",
       "1    4  67  12  \n",
       "2    4  52  14  \n",
       "4    4  36  30  \n",
       "5    4  46  22  \n",
       "6    4  61  11  \n",
       "7    5  51   8  \n",
       "9    5  33  23  \n",
       "10   4  42  14  "
      ]
     },
     "execution_count": 18,
     "metadata": {},
     "output_type": "execute_result"
    }
   ],
   "source": [
    "df[(df[\"50\"])>3]"
   ]
  },
  {
   "cell_type": "markdown",
   "id": "3fa08789",
   "metadata": {},
   "source": [
    "# Q10. Check the list of players who hit more than 45 boundARIES and more than 10 sixes in this season?"
   ]
  },
  {
   "cell_type": "code",
   "execution_count": 19,
   "id": "f762b498",
   "metadata": {},
   "outputs": [
    {
     "name": "stdout",
     "output_type": "stream",
     "text": [
      "KL Rahul\n",
      "Shikhar Dhawan\n",
      "David Warner\n",
      "Quinton de Kock\n",
      "Suryakumar Yadav\n"
     ]
    }
   ],
   "source": [
    "bd=df[(df['4s']>45) & (df['6s']>10)]\n",
    "bd_list=bd['Player'].tolist()\n",
    "for i in bd_list:\n",
    "  print(i)"
   ]
  },
  {
   "cell_type": "markdown",
   "id": "e2abc950",
   "metadata": {},
   "source": [
    "# Q11. Plot a histogram of number of matches played in a season by players?"
   ]
  },
  {
   "cell_type": "code",
   "execution_count": 20,
   "id": "2fe7e83a",
   "metadata": {},
   "outputs": [
    {
     "data": {
      "text/plain": [
       "<AxesSubplot:>"
      ]
     },
     "execution_count": 20,
     "metadata": {},
     "output_type": "execute_result"
    },
    {
     "data": {
      "image/png": "[encoded data removed]",
      "text/plain": [
       "<Figure size 640x480 with 1 Axes>"
      ]
     },
     "metadata": {},
     "output_type": "display_data"
    }
   ],
   "source": [
    "df[\"Mat\"].hist()"
   ]
  },
  {
   "cell_type": "markdown",
   "id": "5f09391f",
   "metadata": {},
   "source": [
    "# Q12. Plot the histogram of balls faced by players?"
   ]
  },
  {
   "cell_type": "code",
   "execution_count": 22,
   "id": "1de1e494",
   "metadata": {},
   "outputs": [
    {
     "data": {
      "image/png": "[encoded data removed]",
      "text/plain": [
       "<Figure size 640x480 with 1 Axes>"
      ]
     },
     "metadata": {},
     "output_type": "display_data"
    }
   ],
   "source": [
    "plt.hist(df['BF'],bins=20,color=\"orange\")\n",
    "plt.title( 'Histogram of balls faced by players')\n",
    "plt.xlabel('Number of ball faced')\n",
    "plt.ylabel('Frequency')\n",
    "plt.show()"
   ]
  },
  {
   "cell_type": "markdown",
   "id": "9cf82901",
   "metadata": {},
   "source": [
    "# Q13. Top 30 players with most runs in a season v/s matches played?"
   ]
  },
  {
   "cell_type": "code",
   "execution_count": 23,
   "id": "3d0735f1",
   "metadata": {},
   "outputs": [
    {
     "data": {
      "image/png": "[encoded data removed]",
      "text/plain": [
       "<Figure size 2000x700 with 1 Axes>"
      ]
     },
     "metadata": {},
     "output_type": "display_data"
    }
   ],
   "source": [
    "df= df.sort_values(by = ['Mat'], ascending = False)\n",
    "plt.figure(figsize = (20, 7))\n",
    "sns.barplot(x = df[\"Mat\"], y = df[\"Player\"][:30], palette = \"gist_ncar\");"
   ]
  },
  {
   "cell_type": "markdown",
   "id": "692a3d72",
   "metadata": {},
   "source": [
    "# Q14. Bar chart for top 20 players with best strike rate in a season?"
   ]
  },
  {
   "cell_type": "code",
   "execution_count": 29,
   "id": "351d63fb",
   "metadata": {},
   "outputs": [
    {
     "name": "stderr",
     "output_type": "stream",
     "text": [
      "C:\\PerfLogs\\lib\\site-packages\\matplotlib\\tight_bbox.py:71: RuntimeWarning: divide by zero encountered in double_scalars\n",
      "  fig.patch.set_bounds(x0 / w1, y0 / h1,\n",
      "C:\\PerfLogs\\lib\\site-packages\\matplotlib\\tight_bbox.py:72: RuntimeWarning: divide by zero encountered in double_scalars\n",
      "  fig.bbox.width / w1, fig.bbox.height / h1)\n",
      "C:\\PerfLogs\\lib\\site-packages\\matplotlib\\patches.py:749: RuntimeWarning: invalid value encountered in double_scalars\n",
      "  x1 = self.convert_xunits(self._x0 + self._width)\n",
      "C:\\PerfLogs\\lib\\site-packages\\matplotlib\\transforms.py:2052: RuntimeWarning: invalid value encountered in double_scalars\n",
      "  self._mtx[0, 2] += tx\n"
     ]
    },
    {
     "data": {
      "image/png": "[encoded data removed]",
      "text/plain": [
       "<Figure size 0x500 with 1 Axes>"
      ]
     },
     "metadata": {},
     "output_type": "display_data"
    }
   ],
   "source": [
    "top_20 =df.nlargest(20,'SR')\n",
    "plt.figure(figsize=(0,5))\n",
    "plt.title('Top 20 players with best strike rate')\n",
    "sns.countplot(x='Player', data=df)\n",
    "plt.xticks(rotation='90')\n",
    "plt.show()"
   ]
  },
  {
   "cell_type": "markdown",
   "id": "fe97e6b8",
   "metadata": {},
   "source": [
    "# Q15. Top 30 players with highest number of sixes?"
   ]
  },
  {
   "cell_type": "code",
   "execution_count": 26,
   "id": "1b6431fa",
   "metadata": {},
   "outputs": [
    {
     "data": {
      "image/png": "[encoded data removed]",
      "text/plain": [
       "<Figure size 640x480 with 1 Axes>"
      ]
     },
     "metadata": {},
     "output_type": "display_data"
    }
   ],
   "source": [
    "six_top30= df.nlargest(30,'6s')\n",
    "plt.bar(six_top30['Player'], six_top30['6s'], color='lightskyblue')\n",
    "plt.title('Top 30 players with highest number of sixes')\n",
    "plt.xlabel('Player')\n",
    "plt.ylabel('Counts')\n",
    "\n",
    "#Rotate x-axis lables for better visibility\n",
    "plt.xticks(rotation=90)\n",
    "plt.show()"
   ]
  },
  {
   "cell_type": "code",
   "execution_count": null,
   "id": "fe63ee66",
   "metadata": {},
   "outputs": [],
   "source": []
  },
  {
   "cell_type": "markdown",
   "id": "a8707674",
   "metadata": {},
   "source": [
    "# Q16. Scatter plot of runs scored by a player v/s balls faced in a season?"
   ]
  },
  {
   "cell_type": "code",
   "execution_count": null,
   "id": "c8741789",
   "metadata": {},
   "outputs": [],
   "source": []
  },
  {
   "cell_type": "code",
   "execution_count": 27,
   "id": "c1d1fa87",
   "metadata": {},
   "outputs": [
    {
     "data": {
      "text/plain": [
       "Text(0, 0.5, 'BF')"
      ]
     },
     "execution_count": 27,
     "metadata": {},
     "output_type": "execute_result"
    },
    {
     "data": {
      "image/png": "[encoded data removed]",
      "text/plain": [
       "<Figure size 640x480 with 1 Axes>"
      ]
     },
     "metadata": {},
     "output_type": "display_data"
    }
   ],
   "source": [
    "plt.scatter(df['Runs'],df['BF'])\n",
    "plt.title('Runs scored by Vs balls faced')\n",
    "plt.xlabel('Runs')\n",
    "plt.ylabel('BF')"
   ]
  },
  {
   "cell_type": "code",
   "execution_count": null,
   "id": "ba0c17fc",
   "metadata": {},
   "outputs": [],
   "source": []
  },
  {
   "cell_type": "markdown",
   "id": "ce137ad4",
   "metadata": {},
   "source": [
    "# Q17. KDE plot for averages on a season?"
   ]
  },
  {
   "cell_type": "code",
   "execution_count": 28,
   "id": "d6fd48d2",
   "metadata": {},
   "outputs": [
    {
     "data": {
      "text/plain": [
       "Text(0.5, 1.0, 'Average Distribution by Season')"
      ]
     },
     "execution_count": 28,
     "metadata": {},
     "output_type": "execute_result"
    },
    {
     "data": {
      "image/png": "[encoded data removed]",
      "text/plain": [
       "<Figure size 640x480 with 1 Axes>"
      ]
     },
     "metadata": {},
     "output_type": "display_data"
    }
   ],
   "source": [
    "sns.kdeplot(df['Avg'])\n",
    "plt.xlabel('Average')\n",
    "plt.ylabel('Density')\n",
    "plt.title('Average Distribution by Season')"
   ]
  },
  {
   "cell_type": "code",
   "execution_count": null,
   "id": "7be35713",
   "metadata": {},
   "outputs": [],
   "source": []
  }
 ],
 "metadata": {
  "kernelspec": {
   "display_name": "Python 3 (ipykernel)",
   "language": "python",
   "name": "python3"
  },
  "language_info": {
   "codemirror_mode": {
    "name": "ipython",
    "version": 3
   },
   "file_extension": ".py",
   "mimetype": "text/x-python",
   "name": "python",
   "nbconvert_exporter": "python",
   "pygments_lexer": "ipython3",
   "version": "3.9.13"
  }
 },
 "nbformat": 4,
 "nbformat_minor": 5
}
